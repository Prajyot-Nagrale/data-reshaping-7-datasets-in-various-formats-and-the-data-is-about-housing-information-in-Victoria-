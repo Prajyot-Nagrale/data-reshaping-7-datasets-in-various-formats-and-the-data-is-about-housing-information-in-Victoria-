{
 "cells": [
  {
   "cell_type": "markdown",
   "metadata": {},
   "source": [
    "____________________________\n",
    "\n",
    "# FIT5196-S2-2020 Assessment 3\n",
    "\n",
    "___________________________\n",
    "\n",
    "\n",
    "#### Student Name: Prajyot Nagrale\n",
    "#### Student ID: 31132324\n",
    "\n",
    "________________________________\n",
    "\n",
    "\n",
    "Date: 20/11/2020\n",
    "\n",
    "Version: 6.0\n",
    "\n",
    "Environment: Python 3.8.5 and Jupyter notebook\n",
    "\n",
    "________________________"
   ]
  },
  {
   "cell_type": "markdown",
   "metadata": {},
   "source": [
    "## Libraries used: \n",
    "\n",
    "* **pandas** (Pandas is an open source package that provides many tools for data analysis. The package has several data structures that can be used for many data handling tasks. It has a method that can be raised for data analysis, included in Anaconda Python 3.8). Giving an alias name from pandas as pd.\n",
    "* **numpy** (It is used to work with arrays. It can also be used with linear algebra, transform, and matrices. Included in Anaconda Python 3.8) Giving an alias name for numpy as np.\n",
    "* **math** (It is a build in module that can use for mathematical tasks. It has set of methods and constants. Included in Anaconda Python 3.8) .\n",
    "* **nltk.sentiment.vader** (SentimentAnalyzer is a tool to implement and facilitate sentiment analysis tasks using NLTK features and classifiers, for demonstrative purposes. Not included in Anaconda Python 3.8). Importing SentimentIntensityAnalyzer from nltk.sentiment.vader package.\n",
    "* **sklearn.** (Linear Regression fits a linear model with coefficients to minimize the sum of squres between the observed targets in the dataset for the targets prediction. included in Anaconda Python 3.8). Importing LinearRegression from sklearn.linear_model.\n",
    "* **matplotlib.pyplot** (It combines pyplot with numpy into one namespace. It is used to create different graph or visualize the data in proper format. Included in Anaconda Python 3.8). Giving as alias name for matplotlib.pyplot as plt.\n",
    "\n",
    "* re\n",
    "* radians, cos, sin, asin, sqrt \n",
    "* wrapper\n",
    "* PyPDF2\n",
    "* ast\n",
    "* xmltodict\n",
    "* zipfile\n",
    "* json\n",
    "* shapefile\n",
    "* shapely.geometry import Point\n",
    "* shapely.geometry.polygon import Polygon\n",
    "* sklearn import preprocessing\n",
    "* scipy import stats \n",
    "_____________________________"
   ]
  },
  {
   "cell_type": "code",
   "execution_count": 1,
   "metadata": {},
   "outputs": [],
   "source": [
    "# Import\n",
    "import pandas as pd\n",
    "import numpy as np\n",
    "import re\n",
    "from math import radians, cos, sin, asin, sqrt # Importing radians, cos, sin, asin, sqrt from math packages\n",
    "from tabula import wrapper\n",
    "import PyPDF2\n",
    "import ast\n",
    "import xmltodict\n",
    "import zipfile\n",
    "import json\n",
    "import shapefile\n",
    "from shapely.geometry import Point\n",
    "from shapely.geometry.polygon import Polygon\n",
    "from sklearn import preprocessing\n",
    "from matplotlib import pyplot as plt\n",
    "%matplotlib inline\n",
    "from scipy import stats\n",
    "import seaborn as sns "
   ]
  },
  {
   "cell_type": "markdown",
   "metadata": {},
   "source": [
    "# Read \n",
    "\n",
    "## Unzip\n",
    "\n",
    "It is used to extract all the values from the zipped file."
   ]
  },
  {
   "cell_type": "code",
   "execution_count": 2,
   "metadata": {},
   "outputs": [],
   "source": [
    "# Extract zip file \n",
    "with zipfile.ZipFile(\"31132324.zip\", 'r') as zip_ref:\n",
    "    zip_ref.extractall(\"31132324\")# Extract zip file \n",
    "\n",
    "with zipfile.ZipFile(\"GTFS_Melbourne_Train_Information.zip\", 'r') as zip_ref:\n",
    "    zip_ref.extractall(\"GTFS_Melbourne_Train_Information\")# Extract zip file \n",
    "\n",
    "with zipfile.ZipFile(\"vic_suburb_boundary.zip\", 'r') as zip_ref:\n",
    "    zip_ref.extractall(\"vic_suburb_boundary\")# Extract zip file "
   ]
  },
  {
   "cell_type": "markdown",
   "metadata": {},
   "source": [
    "### 1) PDF"
   ]
  },
  {
   "cell_type": "code",
   "execution_count": 3,
   "metadata": {},
   "outputs": [
    {
     "data": {
      "text/html": [
       "<div>\n",
       "<style scoped>\n",
       "    .dataframe tbody tr th:only-of-type {\n",
       "        vertical-align: middle;\n",
       "    }\n",
       "\n",
       "    .dataframe tbody tr th {\n",
       "        vertical-align: top;\n",
       "    }\n",
       "\n",
       "    .dataframe thead th {\n",
       "        text-align: right;\n",
       "    }\n",
       "</style>\n",
       "<table border=\"1\" class=\"dataframe\">\n",
       "  <thead>\n",
       "    <tr style=\"text-align: right;\">\n",
       "      <th></th>\n",
       "      <th>index</th>\n",
       "      <th>id</th>\n",
       "      <th>lat</th>\n",
       "      <th>lng</th>\n",
       "      <th>name</th>\n",
       "    </tr>\n",
       "  </thead>\n",
       "  <tbody>\n",
       "    <tr>\n",
       "      <th>0</th>\n",
       "      <td>0</td>\n",
       "      <td>hospital_001</td>\n",
       "      <td>-37.990622</td>\n",
       "      <td>145.072836</td>\n",
       "      <td>Como Private Hospital</td>\n",
       "    </tr>\n",
       "    <tr>\n",
       "      <th>1</th>\n",
       "      <td>1</td>\n",
       "      <td>hospital_002</td>\n",
       "      <td>-37.855469</td>\n",
       "      <td>145.268183</td>\n",
       "      <td>Mountain District Private Hospital</td>\n",
       "    </tr>\n",
       "    <tr>\n",
       "      <th>2</th>\n",
       "      <td>2</td>\n",
       "      <td>hospital_003</td>\n",
       "      <td>-37.792230</td>\n",
       "      <td>144.889128</td>\n",
       "      <td>Western Hospital</td>\n",
       "    </tr>\n",
       "    <tr>\n",
       "      <th>3</th>\n",
       "      <td>3</td>\n",
       "      <td>hospital_004</td>\n",
       "      <td>-37.756042</td>\n",
       "      <td>145.061896</td>\n",
       "      <td>Mercy Hospital for Women</td>\n",
       "    </tr>\n",
       "    <tr>\n",
       "      <th>4</th>\n",
       "      <td>4</td>\n",
       "      <td>hospital_005</td>\n",
       "      <td>-37.760623</td>\n",
       "      <td>144.815624</td>\n",
       "      <td>Sunshine Hospital</td>\n",
       "    </tr>\n",
       "    <tr>\n",
       "      <th>...</th>\n",
       "      <td>...</td>\n",
       "      <td>...</td>\n",
       "      <td>...</td>\n",
       "      <td>...</td>\n",
       "      <td>...</td>\n",
       "    </tr>\n",
       "    <tr>\n",
       "      <th>238</th>\n",
       "      <td>43</td>\n",
       "      <td>hospital_189</td>\n",
       "      <td>-36.765338</td>\n",
       "      <td>144.266713</td>\n",
       "      <td>St John of God Hospital, Bendigo</td>\n",
       "    </tr>\n",
       "    <tr>\n",
       "      <th>239</th>\n",
       "      <td>44</td>\n",
       "      <td>hospital_190</td>\n",
       "      <td>-36.048446</td>\n",
       "      <td>145.203249</td>\n",
       "      <td>Nathalia District Hospital</td>\n",
       "    </tr>\n",
       "    <tr>\n",
       "      <th>240</th>\n",
       "      <td>45</td>\n",
       "      <td>hospital_191</td>\n",
       "      <td>-37.019006</td>\n",
       "      <td>145.138029</td>\n",
       "      <td>Seymour District Memorial Hospital</td>\n",
       "    </tr>\n",
       "    <tr>\n",
       "      <th>241</th>\n",
       "      <td>46</td>\n",
       "      <td>hospital_192</td>\n",
       "      <td>-37.854032</td>\n",
       "      <td>145.162993</td>\n",
       "      <td>Peter James Centre</td>\n",
       "    </tr>\n",
       "    <tr>\n",
       "      <th>242</th>\n",
       "      <td>47</td>\n",
       "      <td>hospital_193</td>\n",
       "      <td>-37.773145</td>\n",
       "      <td>145.115210</td>\n",
       "      <td>Manningham Day Procedure Centre</td>\n",
       "    </tr>\n",
       "  </tbody>\n",
       "</table>\n",
       "<p>243 rows × 5 columns</p>\n",
       "</div>"
      ],
      "text/plain": [
       "     index            id        lat         lng  \\\n",
       "0        0  hospital_001 -37.990622  145.072836   \n",
       "1        1  hospital_002 -37.855469  145.268183   \n",
       "2        2  hospital_003 -37.792230  144.889128   \n",
       "3        3  hospital_004 -37.756042  145.061896   \n",
       "4        4  hospital_005 -37.760623  144.815624   \n",
       "..     ...           ...        ...         ...   \n",
       "238     43  hospital_189 -36.765338  144.266713   \n",
       "239     44  hospital_190 -36.048446  145.203249   \n",
       "240     45  hospital_191 -37.019006  145.138029   \n",
       "241     46  hospital_192 -37.854032  145.162993   \n",
       "242     47  hospital_193 -37.773145  145.115210   \n",
       "\n",
       "                                   name  \n",
       "0                 Como Private Hospital  \n",
       "1    Mountain District Private Hospital  \n",
       "2                      Western Hospital  \n",
       "3              Mercy Hospital for Women  \n",
       "4                     Sunshine Hospital  \n",
       "..                                  ...  \n",
       "238    St John of God Hospital, Bendigo  \n",
       "239          Nathalia District Hospital  \n",
       "240  Seymour District Memorial Hospital  \n",
       "241                  Peter James Centre  \n",
       "242     Manningham Day Procedure Centre  \n",
       "\n",
       "[243 rows x 5 columns]"
      ]
     },
     "execution_count": 3,
     "metadata": {},
     "output_type": "execute_result"
    }
   ],
   "source": [
    "# Read PDF files\n",
    "with open('./31132324/hospitals.pdf','rb') as pdf:\n",
    "    pdf_merger = PyPDF2.PdfFileReader(pdf) # read data\n",
    "    number_page = pdf_merger.getNumPages() # no of pages\n",
    "\n",
    "pdf_data = []\n",
    "for each in range(0, number_page):\n",
    "    pdf_data.append(wrapper.read_pdf('./31132324/hospitals.pdf', pages = each)) # from every pages\n",
    "\n",
    "pdf_dat = pd.concat(pdf_data) # dataframe\n",
    "cols = ['id', 'lat', 'lng', 'name']\n",
    "df_pdf = pdf_dat[cols].reset_index() # resent index\n",
    "df_pdf"
   ]
  },
  {
   "cell_type": "markdown",
   "metadata": {},
   "source": [
    "### 2) JSON"
   ]
  },
  {
   "cell_type": "code",
   "execution_count": 4,
   "metadata": {},
   "outputs": [
    {
     "data": {
      "text/html": [
       "<div>\n",
       "<style scoped>\n",
       "    .dataframe tbody tr th:only-of-type {\n",
       "        vertical-align: middle;\n",
       "    }\n",
       "\n",
       "    .dataframe tbody tr th {\n",
       "        vertical-align: top;\n",
       "    }\n",
       "\n",
       "    .dataframe thead th {\n",
       "        text-align: right;\n",
       "    }\n",
       "</style>\n",
       "<table border=\"1\" class=\"dataframe\">\n",
       "  <thead>\n",
       "    <tr style=\"text-align: right;\">\n",
       "      <th></th>\n",
       "      <th>property_id</th>\n",
       "      <th>lat</th>\n",
       "      <th>lng</th>\n",
       "      <th>addr_street</th>\n",
       "      <th>price</th>\n",
       "      <th>property_type</th>\n",
       "      <th>year</th>\n",
       "      <th>bedrooms</th>\n",
       "      <th>bathrooms</th>\n",
       "      <th>parking_space</th>\n",
       "    </tr>\n",
       "  </thead>\n",
       "  <tbody>\n",
       "    <tr>\n",
       "      <th>0</th>\n",
       "      <td>48465</td>\n",
       "      <td>-37.817101</td>\n",
       "      <td>145.058548</td>\n",
       "      <td>441 Barkers Road (Entrance via rear laneway of...</td>\n",
       "      <td>8080000</td>\n",
       "      <td>house</td>\n",
       "      <td>2008</td>\n",
       "      <td>4</td>\n",
       "      <td>2</td>\n",
       "      <td>0</td>\n",
       "    </tr>\n",
       "    <tr>\n",
       "      <th>1</th>\n",
       "      <td>43318</td>\n",
       "      <td>-37.724899</td>\n",
       "      <td>145.100571</td>\n",
       "      <td>8 Willaura Place</td>\n",
       "      <td>8560000</td>\n",
       "      <td>house</td>\n",
       "      <td>2008</td>\n",
       "      <td>4</td>\n",
       "      <td>2</td>\n",
       "      <td>2</td>\n",
       "    </tr>\n",
       "    <tr>\n",
       "      <th>2</th>\n",
       "      <td>22971</td>\n",
       "      <td>-37.733128</td>\n",
       "      <td>144.954346</td>\n",
       "      <td>56 Fischer Street</td>\n",
       "      <td>6090000</td>\n",
       "      <td>house</td>\n",
       "      <td>2008</td>\n",
       "      <td>3</td>\n",
       "      <td>1</td>\n",
       "      <td>1</td>\n",
       "    </tr>\n",
       "    <tr>\n",
       "      <th>3</th>\n",
       "      <td>77306</td>\n",
       "      <td>-37.939733</td>\n",
       "      <td>145.109115</td>\n",
       "      <td>9 Loddon Court</td>\n",
       "      <td>6066000</td>\n",
       "      <td>house</td>\n",
       "      <td>2012</td>\n",
       "      <td>5</td>\n",
       "      <td>2</td>\n",
       "      <td>2</td>\n",
       "    </tr>\n",
       "    <tr>\n",
       "      <th>4</th>\n",
       "      <td>34488</td>\n",
       "      <td>-37.728284</td>\n",
       "      <td>145.019221</td>\n",
       "      <td>27 McColl Street</td>\n",
       "      <td>3384000</td>\n",
       "      <td>house</td>\n",
       "      <td>2010</td>\n",
       "      <td>2</td>\n",
       "      <td>1</td>\n",
       "      <td>2</td>\n",
       "    </tr>\n",
       "    <tr>\n",
       "      <th>...</th>\n",
       "      <td>...</td>\n",
       "      <td>...</td>\n",
       "      <td>...</td>\n",
       "      <td>...</td>\n",
       "      <td>...</td>\n",
       "      <td>...</td>\n",
       "      <td>...</td>\n",
       "      <td>...</td>\n",
       "      <td>...</td>\n",
       "      <td>...</td>\n",
       "    </tr>\n",
       "    <tr>\n",
       "      <th>1005</th>\n",
       "      <td>20435</td>\n",
       "      <td>-37.759301</td>\n",
       "      <td>144.972729</td>\n",
       "      <td>121 Mitchell Street</td>\n",
       "      <td>9712000</td>\n",
       "      <td>house</td>\n",
       "      <td>2011</td>\n",
       "      <td>2</td>\n",
       "      <td>1</td>\n",
       "      <td>1</td>\n",
       "    </tr>\n",
       "    <tr>\n",
       "      <th>1006</th>\n",
       "      <td>50025</td>\n",
       "      <td>-37.763408</td>\n",
       "      <td>145.090374</td>\n",
       "      <td>2/86 Latrobe Street</td>\n",
       "      <td>13720000</td>\n",
       "      <td>house</td>\n",
       "      <td>2011</td>\n",
       "      <td>4</td>\n",
       "      <td>2</td>\n",
       "      <td>2</td>\n",
       "    </tr>\n",
       "    <tr>\n",
       "      <th>1007</th>\n",
       "      <td>42247</td>\n",
       "      <td>-37.738944</td>\n",
       "      <td>145.064836</td>\n",
       "      <td>43 Ellesmere Parade</td>\n",
       "      <td>10880000</td>\n",
       "      <td>house</td>\n",
       "      <td>2014</td>\n",
       "      <td>2</td>\n",
       "      <td>1</td>\n",
       "      <td>0</td>\n",
       "    </tr>\n",
       "    <tr>\n",
       "      <th>1008</th>\n",
       "      <td>35413</td>\n",
       "      <td>-37.712612</td>\n",
       "      <td>145.019236</td>\n",
       "      <td>66 Whitelaw Street</td>\n",
       "      <td>8500000</td>\n",
       "      <td>house</td>\n",
       "      <td>2015</td>\n",
       "      <td>3</td>\n",
       "      <td>1</td>\n",
       "      <td>3</td>\n",
       "    </tr>\n",
       "    <tr>\n",
       "      <th>1009</th>\n",
       "      <td>65774</td>\n",
       "      <td>-37.775230</td>\n",
       "      <td>145.311410</td>\n",
       "      <td>14 Shirley St</td>\n",
       "      <td>4758000</td>\n",
       "      <td>house</td>\n",
       "      <td>2014</td>\n",
       "      <td>3</td>\n",
       "      <td>2</td>\n",
       "      <td>2</td>\n",
       "    </tr>\n",
       "  </tbody>\n",
       "</table>\n",
       "<p>1010 rows × 10 columns</p>\n",
       "</div>"
      ],
      "text/plain": [
       "      property_id        lat         lng  \\\n",
       "0           48465 -37.817101  145.058548   \n",
       "1           43318 -37.724899  145.100571   \n",
       "2           22971 -37.733128  144.954346   \n",
       "3           77306 -37.939733  145.109115   \n",
       "4           34488 -37.728284  145.019221   \n",
       "...           ...        ...         ...   \n",
       "1005        20435 -37.759301  144.972729   \n",
       "1006        50025 -37.763408  145.090374   \n",
       "1007        42247 -37.738944  145.064836   \n",
       "1008        35413 -37.712612  145.019236   \n",
       "1009        65774 -37.775230  145.311410   \n",
       "\n",
       "                                            addr_street     price  \\\n",
       "0     441 Barkers Road (Entrance via rear laneway of...   8080000   \n",
       "1                                      8 Willaura Place   8560000   \n",
       "2                                     56 Fischer Street   6090000   \n",
       "3                                        9 Loddon Court   6066000   \n",
       "4                                      27 McColl Street   3384000   \n",
       "...                                                 ...       ...   \n",
       "1005                                121 Mitchell Street   9712000   \n",
       "1006                                2/86 Latrobe Street  13720000   \n",
       "1007                                43 Ellesmere Parade  10880000   \n",
       "1008                                 66 Whitelaw Street   8500000   \n",
       "1009                                      14 Shirley St   4758000   \n",
       "\n",
       "     property_type  year  bedrooms  bathrooms  parking_space  \n",
       "0            house  2008         4          2              0  \n",
       "1            house  2008         4          2              2  \n",
       "2            house  2008         3          1              1  \n",
       "3            house  2012         5          2              2  \n",
       "4            house  2010         2          1              2  \n",
       "...            ...   ...       ...        ...            ...  \n",
       "1005         house  2011         2          1              1  \n",
       "1006         house  2011         4          2              2  \n",
       "1007         house  2014         2          1              0  \n",
       "1008         house  2015         3          1              3  \n",
       "1009         house  2014         3          2              2  \n",
       "\n",
       "[1010 rows x 10 columns]"
      ]
     },
     "execution_count": 4,
     "metadata": {},
     "output_type": "execute_result"
    }
   ],
   "source": [
    "df_json = pd.read_json('./31132324/real_state.json') # read json file\n",
    "df_json"
   ]
  },
  {
   "cell_type": "markdown",
   "metadata": {},
   "source": [
    "### 3) XML "
   ]
  },
  {
   "cell_type": "code",
   "execution_count": 5,
   "metadata": {},
   "outputs": [
    {
     "data": {
      "text/html": [
       "<div>\n",
       "<style scoped>\n",
       "    .dataframe tbody tr th:only-of-type {\n",
       "        vertical-align: middle;\n",
       "    }\n",
       "\n",
       "    .dataframe tbody tr th {\n",
       "        vertical-align: top;\n",
       "    }\n",
       "\n",
       "    .dataframe thead th {\n",
       "        text-align: right;\n",
       "    }\n",
       "</style>\n",
       "<table border=\"1\" class=\"dataframe\">\n",
       "  <thead>\n",
       "    <tr style=\"text-align: right;\">\n",
       "      <th></th>\n",
       "      <th>property_id</th>\n",
       "      <th>lat</th>\n",
       "      <th>lng</th>\n",
       "      <th>addr_street</th>\n",
       "      <th>price</th>\n",
       "      <th>property_type</th>\n",
       "      <th>year</th>\n",
       "      <th>bedrooms</th>\n",
       "      <th>bathrooms</th>\n",
       "      <th>parking_space</th>\n",
       "    </tr>\n",
       "  </thead>\n",
       "  <tbody>\n",
       "    <tr>\n",
       "      <th>n47859</th>\n",
       "      <td>48394</td>\n",
       "      <td>-37.807036</td>\n",
       "      <td>145.053244</td>\n",
       "      <td>4 Downton Grove</td>\n",
       "      <td>15030000</td>\n",
       "      <td>house</td>\n",
       "      <td>2010</td>\n",
       "      <td>4</td>\n",
       "      <td>2</td>\n",
       "      <td>2</td>\n",
       "    </tr>\n",
       "    <tr>\n",
       "      <th>n85805</th>\n",
       "      <td>86340</td>\n",
       "      <td>-37.91543</td>\n",
       "      <td>145.000011</td>\n",
       "      <td>20 Lawrence Street</td>\n",
       "      <td>4740000</td>\n",
       "      <td>house</td>\n",
       "      <td>2016</td>\n",
       "      <td>5</td>\n",
       "      <td>2</td>\n",
       "      <td>2</td>\n",
       "    </tr>\n",
       "    <tr>\n",
       "      <th>n90747</th>\n",
       "      <td>91282</td>\n",
       "      <td>-37.980495</td>\n",
       "      <td>145.038626</td>\n",
       "      <td>149 Dalgetty Road</td>\n",
       "      <td>15820000</td>\n",
       "      <td>house</td>\n",
       "      <td>2010</td>\n",
       "      <td>4</td>\n",
       "      <td>2</td>\n",
       "      <td>2</td>\n",
       "    </tr>\n",
       "    <tr>\n",
       "      <th>n68757</th>\n",
       "      <td>69292</td>\n",
       "      <td>-37.849491</td>\n",
       "      <td>145.040852</td>\n",
       "      <td>70A Milton Parade</td>\n",
       "      <td>7028000</td>\n",
       "      <td>house</td>\n",
       "      <td>2013</td>\n",
       "      <td>4</td>\n",
       "      <td>2</td>\n",
       "      <td>2</td>\n",
       "    </tr>\n",
       "    <tr>\n",
       "      <th>n14166</th>\n",
       "      <td>14700</td>\n",
       "      <td>-37.759209999999996</td>\n",
       "      <td>144.896152</td>\n",
       "      <td>65 Fawkner Street</td>\n",
       "      <td>15730000</td>\n",
       "      <td>house</td>\n",
       "      <td>2015</td>\n",
       "      <td>4</td>\n",
       "      <td>3</td>\n",
       "      <td>2</td>\n",
       "    </tr>\n",
       "    <tr>\n",
       "      <th>...</th>\n",
       "      <td>...</td>\n",
       "      <td>...</td>\n",
       "      <td>...</td>\n",
       "      <td>...</td>\n",
       "      <td>...</td>\n",
       "      <td>...</td>\n",
       "      <td>...</td>\n",
       "      <td>...</td>\n",
       "      <td>...</td>\n",
       "      <td>...</td>\n",
       "    </tr>\n",
       "    <tr>\n",
       "      <th>n2637</th>\n",
       "      <td>2658</td>\n",
       "      <td>-37.81152725</td>\n",
       "      <td>144.8897705</td>\n",
       "      <td>101 Gamon Street</td>\n",
       "      <td>4290000</td>\n",
       "      <td>house</td>\n",
       "      <td>2006</td>\n",
       "      <td>2</td>\n",
       "      <td>1</td>\n",
       "      <td>0</td>\n",
       "    </tr>\n",
       "    <tr>\n",
       "      <th>n670</th>\n",
       "      <td>674</td>\n",
       "      <td>-37.801041</td>\n",
       "      <td>144.89216000000002</td>\n",
       "      <td>23 Windsor Street</td>\n",
       "      <td>9900000</td>\n",
       "      <td>house</td>\n",
       "      <td>2012</td>\n",
       "      <td>4</td>\n",
       "      <td>2</td>\n",
       "      <td>1</td>\n",
       "    </tr>\n",
       "    <tr>\n",
       "      <th>n81497</th>\n",
       "      <td>82032</td>\n",
       "      <td>-37.99674606</td>\n",
       "      <td>145.2403717</td>\n",
       "      <td>28 Fugosia Street</td>\n",
       "      <td>2784000</td>\n",
       "      <td>house</td>\n",
       "      <td>2006</td>\n",
       "      <td>2</td>\n",
       "      <td>1</td>\n",
       "      <td>0</td>\n",
       "    </tr>\n",
       "    <tr>\n",
       "      <th>n74090</th>\n",
       "      <td>74625</td>\n",
       "      <td>-37.900213</td>\n",
       "      <td>145.04918999999998</td>\n",
       "      <td>15 Melton Avenue</td>\n",
       "      <td>14080000</td>\n",
       "      <td>house</td>\n",
       "      <td>2012</td>\n",
       "      <td>4</td>\n",
       "      <td>2</td>\n",
       "      <td>2</td>\n",
       "    </tr>\n",
       "    <tr>\n",
       "      <th>n93140</th>\n",
       "      <td>93675</td>\n",
       "      <td>-37.992734000000006</td>\n",
       "      <td>145.088311</td>\n",
       "      <td>79 Davey Street</td>\n",
       "      <td>6655000</td>\n",
       "      <td>house</td>\n",
       "      <td>2012</td>\n",
       "      <td>4</td>\n",
       "      <td>2</td>\n",
       "      <td>0</td>\n",
       "    </tr>\n",
       "  </tbody>\n",
       "</table>\n",
       "<p>1005 rows × 10 columns</p>\n",
       "</div>"
      ],
      "text/plain": [
       "       property_id                  lat                 lng  \\\n",
       "n47859       48394           -37.807036          145.053244   \n",
       "n85805       86340            -37.91543          145.000011   \n",
       "n90747       91282           -37.980495          145.038626   \n",
       "n68757       69292           -37.849491          145.040852   \n",
       "n14166       14700  -37.759209999999996          144.896152   \n",
       "...            ...                  ...                 ...   \n",
       "n2637         2658         -37.81152725         144.8897705   \n",
       "n670           674           -37.801041  144.89216000000002   \n",
       "n81497       82032         -37.99674606         145.2403717   \n",
       "n74090       74625           -37.900213  145.04918999999998   \n",
       "n93140       93675  -37.992734000000006          145.088311   \n",
       "\n",
       "               addr_street     price property_type  year bedrooms bathrooms  \\\n",
       "n47859     4 Downton Grove  15030000         house  2010        4         2   \n",
       "n85805  20 Lawrence Street   4740000         house  2016        5         2   \n",
       "n90747   149 Dalgetty Road  15820000         house  2010        4         2   \n",
       "n68757   70A Milton Parade   7028000         house  2013        4         2   \n",
       "n14166   65 Fawkner Street  15730000         house  2015        4         3   \n",
       "...                    ...       ...           ...   ...      ...       ...   \n",
       "n2637     101 Gamon Street   4290000         house  2006        2         1   \n",
       "n670     23 Windsor Street   9900000         house  2012        4         2   \n",
       "n81497   28 Fugosia Street   2784000         house  2006        2         1   \n",
       "n74090    15 Melton Avenue  14080000         house  2012        4         2   \n",
       "n93140     79 Davey Street   6655000         house  2012        4         2   \n",
       "\n",
       "       parking_space  \n",
       "n47859             2  \n",
       "n85805             2  \n",
       "n90747             2  \n",
       "n68757             2  \n",
       "n14166             2  \n",
       "...              ...  \n",
       "n2637              0  \n",
       "n670               1  \n",
       "n81497             0  \n",
       "n74090             2  \n",
       "n93140             0  \n",
       "\n",
       "[1005 rows x 10 columns]"
      ]
     },
     "execution_count": 5,
     "metadata": {},
     "output_type": "execute_result"
    }
   ],
   "source": [
    "with open(\"./31132324/real_state.xml\", \"r\") as xml_data:\n",
    "    xml_data1 = ast.literal_eval(xml_data.read()) # read xml file\n",
    "\n",
    "xml_data2 = xmltodict.parse(xml_data1) # parse xml file\n",
    "data_dictionary = {}\n",
    "data_dictionary['root'] = {} # create root in dictionar\n",
    "parent_data = list(xml_data2['root'].keys()) # list in root \n",
    "\n",
    "for parent in parent_data:\n",
    "    child_data = list(xml_data2['root'][parent].keys())[1:] # get from first\n",
    "    data_dictionary['root'][parent] = {} \n",
    "    \n",
    "    for child in child_data:\n",
    "        data_dictionary['root'][parent][child] = xml_data2['root'][parent][child]['#text'] # add in empty dictionary\n",
    "\n",
    "final_dictionary = {(k2):v2 for k1,v1 in data_dictionary.items() for k2,v2 in data_dictionary[k1].items()} # two for loop for getting all xml file \n",
    "\n",
    "df_xml = pd.DataFrame.from_dict(final_dictionary) # create dataframe\n",
    "df_xml"
   ]
  },
  {
   "cell_type": "markdown",
   "metadata": {},
   "source": [
    "### 4) html"
   ]
  },
  {
   "cell_type": "code",
   "execution_count": 6,
   "metadata": {},
   "outputs": [
    {
     "data": {
      "text/html": [
       "<div>\n",
       "<style scoped>\n",
       "    .dataframe tbody tr th:only-of-type {\n",
       "        vertical-align: middle;\n",
       "    }\n",
       "\n",
       "    .dataframe tbody tr th {\n",
       "        vertical-align: top;\n",
       "    }\n",
       "\n",
       "    .dataframe thead th {\n",
       "        text-align: right;\n",
       "    }\n",
       "</style>\n",
       "<table border=\"1\" class=\"dataframe\">\n",
       "  <thead>\n",
       "    <tr style=\"text-align: right;\">\n",
       "      <th></th>\n",
       "      <th>sc_id</th>\n",
       "      <th>lat</th>\n",
       "      <th>lng</th>\n",
       "    </tr>\n",
       "  </thead>\n",
       "  <tbody>\n",
       "    <tr>\n",
       "      <th>0</th>\n",
       "      <td>SC_001</td>\n",
       "      <td>-37.767915</td>\n",
       "      <td>145.041790</td>\n",
       "    </tr>\n",
       "    <tr>\n",
       "      <th>1</th>\n",
       "      <td>SC_002</td>\n",
       "      <td>-37.819375</td>\n",
       "      <td>145.171472</td>\n",
       "    </tr>\n",
       "    <tr>\n",
       "      <th>2</th>\n",
       "      <td>SC_003</td>\n",
       "      <td>-37.971131</td>\n",
       "      <td>145.089065</td>\n",
       "    </tr>\n",
       "    <tr>\n",
       "      <th>3</th>\n",
       "      <td>SC_004</td>\n",
       "      <td>-35.280406</td>\n",
       "      <td>149.132550</td>\n",
       "    </tr>\n",
       "    <tr>\n",
       "      <th>4</th>\n",
       "      <td>SC_005</td>\n",
       "      <td>-37.574572</td>\n",
       "      <td>144.920451</td>\n",
       "    </tr>\n",
       "    <tr>\n",
       "      <th>...</th>\n",
       "      <td>...</td>\n",
       "      <td>...</td>\n",
       "      <td>...</td>\n",
       "    </tr>\n",
       "    <tr>\n",
       "      <th>114</th>\n",
       "      <td>SC_115</td>\n",
       "      <td>-38.014916</td>\n",
       "      <td>145.323404</td>\n",
       "    </tr>\n",
       "    <tr>\n",
       "      <th>115</th>\n",
       "      <td>SC_116</td>\n",
       "      <td>43.105259</td>\n",
       "      <td>-76.091619</td>\n",
       "    </tr>\n",
       "    <tr>\n",
       "      <th>116</th>\n",
       "      <td>SC_117</td>\n",
       "      <td>-38.005454</td>\n",
       "      <td>145.217573</td>\n",
       "    </tr>\n",
       "    <tr>\n",
       "      <th>117</th>\n",
       "      <td>SC_118</td>\n",
       "      <td>-37.486265</td>\n",
       "      <td>144.589067</td>\n",
       "    </tr>\n",
       "    <tr>\n",
       "      <th>118</th>\n",
       "      <td>SC_119</td>\n",
       "      <td>-37.781450</td>\n",
       "      <td>145.618270</td>\n",
       "    </tr>\n",
       "  </tbody>\n",
       "</table>\n",
       "<p>119 rows × 3 columns</p>\n",
       "</div>"
      ],
      "text/plain": [
       "      sc_id        lat         lng\n",
       "0    SC_001 -37.767915  145.041790\n",
       "1    SC_002 -37.819375  145.171472\n",
       "2    SC_003 -37.971131  145.089065\n",
       "3    SC_004 -35.280406  149.132550\n",
       "4    SC_005 -37.574572  144.920451\n",
       "..      ...        ...         ...\n",
       "114  SC_115 -38.014916  145.323404\n",
       "115  SC_116  43.105259  -76.091619\n",
       "116  SC_117 -38.005454  145.217573\n",
       "117  SC_118 -37.486265  144.589067\n",
       "118  SC_119 -37.781450  145.618270\n",
       "\n",
       "[119 rows x 3 columns]"
      ]
     },
     "execution_count": 6,
     "metadata": {},
     "output_type": "execute_result"
    }
   ],
   "source": [
    "with open('./31132324/shopingcenters.html') as html:\n",
    "    df_html = pd.read_html(html)[0] # read html file\n",
    "\n",
    "cols = ['sc_id', 'lat', 'lng']\n",
    "df_html = pd.DataFrame(df_html[cols]) # dataframe\n",
    "df_html"
   ]
  },
  {
   "cell_type": "markdown",
   "metadata": {},
   "source": [
    "### 5) excel"
   ]
  },
  {
   "cell_type": "code",
   "execution_count": 7,
   "metadata": {},
   "outputs": [
    {
     "data": {
      "text/html": [
       "<div>\n",
       "<style scoped>\n",
       "    .dataframe tbody tr th:only-of-type {\n",
       "        vertical-align: middle;\n",
       "    }\n",
       "\n",
       "    .dataframe tbody tr th {\n",
       "        vertical-align: top;\n",
       "    }\n",
       "\n",
       "    .dataframe thead th {\n",
       "        text-align: right;\n",
       "    }\n",
       "</style>\n",
       "<table border=\"1\" class=\"dataframe\">\n",
       "  <thead>\n",
       "    <tr style=\"text-align: right;\">\n",
       "      <th></th>\n",
       "      <th>id</th>\n",
       "      <th>lat</th>\n",
       "      <th>lng</th>\n",
       "      <th>type</th>\n",
       "    </tr>\n",
       "  </thead>\n",
       "  <tbody>\n",
       "    <tr>\n",
       "      <th>0</th>\n",
       "      <td>S_001</td>\n",
       "      <td>-37.883978</td>\n",
       "      <td>144.735287</td>\n",
       "      <td>Woolworths</td>\n",
       "    </tr>\n",
       "    <tr>\n",
       "      <th>1</th>\n",
       "      <td>S_002</td>\n",
       "      <td>-41.161591</td>\n",
       "      <td>147.514797</td>\n",
       "      <td>Woolworths</td>\n",
       "    </tr>\n",
       "    <tr>\n",
       "      <th>2</th>\n",
       "      <td>S_003</td>\n",
       "      <td>-37.984078</td>\n",
       "      <td>145.077167</td>\n",
       "      <td>Woolworths</td>\n",
       "    </tr>\n",
       "    <tr>\n",
       "      <th>3</th>\n",
       "      <td>S_004</td>\n",
       "      <td>-37.707023</td>\n",
       "      <td>144.938740</td>\n",
       "      <td>Woolworths</td>\n",
       "    </tr>\n",
       "    <tr>\n",
       "      <th>4</th>\n",
       "      <td>S_005</td>\n",
       "      <td>-37.597670</td>\n",
       "      <td>144.938413</td>\n",
       "      <td>Woolworths</td>\n",
       "    </tr>\n",
       "    <tr>\n",
       "      <th>...</th>\n",
       "      <td>...</td>\n",
       "      <td>...</td>\n",
       "      <td>...</td>\n",
       "      <td>...</td>\n",
       "    </tr>\n",
       "    <tr>\n",
       "      <th>234</th>\n",
       "      <td>S_235</td>\n",
       "      <td>-37.860188</td>\n",
       "      <td>145.028920</td>\n",
       "      <td>Coles</td>\n",
       "    </tr>\n",
       "    <tr>\n",
       "      <th>235</th>\n",
       "      <td>S_236</td>\n",
       "      <td>-37.875984</td>\n",
       "      <td>144.614490</td>\n",
       "      <td>Coles</td>\n",
       "    </tr>\n",
       "    <tr>\n",
       "      <th>236</th>\n",
       "      <td>S_237</td>\n",
       "      <td>-37.047330</td>\n",
       "      <td>143.744610</td>\n",
       "      <td>Coles</td>\n",
       "    </tr>\n",
       "    <tr>\n",
       "      <th>237</th>\n",
       "      <td>S_238</td>\n",
       "      <td>-38.351648</td>\n",
       "      <td>144.922881</td>\n",
       "      <td>Coles</td>\n",
       "    </tr>\n",
       "    <tr>\n",
       "      <th>238</th>\n",
       "      <td>S_239</td>\n",
       "      <td>-36.766586</td>\n",
       "      <td>144.292080</td>\n",
       "      <td>Coles</td>\n",
       "    </tr>\n",
       "  </tbody>\n",
       "</table>\n",
       "<p>239 rows × 4 columns</p>\n",
       "</div>"
      ],
      "text/plain": [
       "        id        lat         lng        type\n",
       "0    S_001 -37.883978  144.735287  Woolworths\n",
       "1    S_002 -41.161591  147.514797  Woolworths\n",
       "2    S_003 -37.984078  145.077167  Woolworths\n",
       "3    S_004 -37.707023  144.938740  Woolworths\n",
       "4    S_005 -37.597670  144.938413  Woolworths\n",
       "..     ...        ...         ...         ...\n",
       "234  S_235 -37.860188  145.028920       Coles\n",
       "235  S_236 -37.875984  144.614490       Coles\n",
       "236  S_237 -37.047330  143.744610       Coles\n",
       "237  S_238 -38.351648  144.922881       Coles\n",
       "238  S_239 -36.766586  144.292080       Coles\n",
       "\n",
       "[239 rows x 4 columns]"
      ]
     },
     "execution_count": 7,
     "metadata": {},
     "output_type": "execute_result"
    }
   ],
   "source": [
    "df_excel = pd.read_excel('./31132324/supermarkets.xlsx') # read excel file\n",
    "cols = ['id', 'lat', 'lng', 'type']\n",
    "df_excel = pd.DataFrame(df_excel[cols])\n",
    "df_excel"
   ]
  },
  {
   "cell_type": "markdown",
   "metadata": {},
   "source": [
    "### 6) txt"
   ]
  },
  {
   "cell_type": "code",
   "execution_count": 8,
   "metadata": {},
   "outputs": [],
   "source": [
    "# read txt file \n",
    "agency = pd.read_csv('./GTFS_Melbourne_Train_Information/1. GTFS - Melbourne Train Information - From PTV (9 Oct 2015)/GTFS - Melbourne Train Information/agency.txt')\n",
    "calendar = pd.read_csv('./GTFS_Melbourne_Train_Information/1. GTFS - Melbourne Train Information - From PTV (9 Oct 2015)/GTFS - Melbourne Train Information/calendar.txt')\n",
    "calendar_dates = pd.read_csv('./GTFS_Melbourne_Train_Information/1. GTFS - Melbourne Train Information - From PTV (9 Oct 2015)/GTFS - Melbourne Train Information/calendar_dates.txt',)\n",
    "routes = pd.read_csv('./GTFS_Melbourne_Train_Information/1. GTFS - Melbourne Train Information - From PTV (9 Oct 2015)/GTFS - Melbourne Train Information/routes.txt')\n",
    "shapes = pd.read_csv('./GTFS_Melbourne_Train_Information/1. GTFS - Melbourne Train Information - From PTV (9 Oct 2015)/GTFS - Melbourne Train Information/shapes.txt')\n",
    "stop_times = pd.read_csv('./GTFS_Melbourne_Train_Information/1. GTFS - Melbourne Train Information - From PTV (9 Oct 2015)/GTFS - Melbourne Train Information/stop_times.txt')\n",
    "stops = pd.read_csv('./GTFS_Melbourne_Train_Information/1. GTFS - Melbourne Train Information - From PTV (9 Oct 2015)/GTFS - Melbourne Train Information/stops.txt')\n",
    "trips = pd.read_csv('./GTFS_Melbourne_Train_Information/1. GTFS - Melbourne Train Information - From PTV (9 Oct 2015)/GTFS - Melbourne Train Information/trips.txt')"
   ]
  },
  {
   "cell_type": "markdown",
   "metadata": {},
   "source": [
    "## JOIN (JSON & XML)"
   ]
  },
  {
   "cell_type": "code",
   "execution_count": 9,
   "metadata": {},
   "outputs": [],
   "source": [
    "# Join\n",
    "df_json_xml = pd.concat([df_xml, df_json]) # join tables\n",
    "df_json_xml = df_json_xml.reset_index()# resetting index\n",
    "del df_json_xml['index'] # delete extra col\n",
    "\n",
    "# Data Type\n",
    "cols_numeric = ['property_id', 'lat', 'lng', 'price', 'year', 'bedrooms', 'bathrooms', 'parking_space']\n",
    "\n",
    "for i in cols_numeric:\n",
    "    df_json_xml[i] = pd.to_numeric(df_json_xml[i]) # changing datatype"
   ]
  },
  {
   "cell_type": "markdown",
   "metadata": {},
   "source": [
    "## Create Columns\n",
    "\n",
    "### Creating default columns"
   ]
  },
  {
   "cell_type": "code",
   "execution_count": 10,
   "metadata": {},
   "outputs": [
    {
     "data": {
      "text/html": [
       "<div>\n",
       "<style scoped>\n",
       "    .dataframe tbody tr th:only-of-type {\n",
       "        vertical-align: middle;\n",
       "    }\n",
       "\n",
       "    .dataframe tbody tr th {\n",
       "        vertical-align: top;\n",
       "    }\n",
       "\n",
       "    .dataframe thead th {\n",
       "        text-align: right;\n",
       "    }\n",
       "</style>\n",
       "<table border=\"1\" class=\"dataframe\">\n",
       "  <thead>\n",
       "    <tr style=\"text-align: right;\">\n",
       "      <th></th>\n",
       "      <th>property_id</th>\n",
       "      <th>lat</th>\n",
       "      <th>lng</th>\n",
       "      <th>addr_street</th>\n",
       "      <th>suburb</th>\n",
       "      <th>price</th>\n",
       "      <th>property_type</th>\n",
       "      <th>year</th>\n",
       "      <th>bedrooms</th>\n",
       "      <th>bathrooms</th>\n",
       "      <th>...</th>\n",
       "      <th>Shopping_center_id</th>\n",
       "      <th>Distance_to_sc</th>\n",
       "      <th>Train_station_id</th>\n",
       "      <th>Distance_to_train_station</th>\n",
       "      <th>travel_min_to_CBD</th>\n",
       "      <th>Transfer_flag</th>\n",
       "      <th>Hospital_id</th>\n",
       "      <th>Distance_to_hospital</th>\n",
       "      <th>Supermarket_id</th>\n",
       "      <th>Distance_to_supermarket</th>\n",
       "    </tr>\n",
       "  </thead>\n",
       "  <tbody>\n",
       "    <tr>\n",
       "      <th>0</th>\n",
       "      <td>48394</td>\n",
       "      <td>-37.807036</td>\n",
       "      <td>145.053244</td>\n",
       "      <td>4 Downton Grove</td>\n",
       "      <td>not available</td>\n",
       "      <td>15030000</td>\n",
       "      <td>house</td>\n",
       "      <td>2010</td>\n",
       "      <td>4</td>\n",
       "      <td>2</td>\n",
       "      <td>...</td>\n",
       "      <td>not available</td>\n",
       "      <td>0</td>\n",
       "      <td>0</td>\n",
       "      <td>0</td>\n",
       "      <td>0</td>\n",
       "      <td>-1</td>\n",
       "      <td>not available</td>\n",
       "      <td>0</td>\n",
       "      <td>not available</td>\n",
       "      <td>0</td>\n",
       "    </tr>\n",
       "    <tr>\n",
       "      <th>1</th>\n",
       "      <td>86340</td>\n",
       "      <td>-37.915430</td>\n",
       "      <td>145.000011</td>\n",
       "      <td>20 Lawrence Street</td>\n",
       "      <td>not available</td>\n",
       "      <td>4740000</td>\n",
       "      <td>house</td>\n",
       "      <td>2016</td>\n",
       "      <td>5</td>\n",
       "      <td>2</td>\n",
       "      <td>...</td>\n",
       "      <td>not available</td>\n",
       "      <td>0</td>\n",
       "      <td>0</td>\n",
       "      <td>0</td>\n",
       "      <td>0</td>\n",
       "      <td>-1</td>\n",
       "      <td>not available</td>\n",
       "      <td>0</td>\n",
       "      <td>not available</td>\n",
       "      <td>0</td>\n",
       "    </tr>\n",
       "    <tr>\n",
       "      <th>2</th>\n",
       "      <td>91282</td>\n",
       "      <td>-37.980495</td>\n",
       "      <td>145.038626</td>\n",
       "      <td>149 Dalgetty Road</td>\n",
       "      <td>not available</td>\n",
       "      <td>15820000</td>\n",
       "      <td>house</td>\n",
       "      <td>2010</td>\n",
       "      <td>4</td>\n",
       "      <td>2</td>\n",
       "      <td>...</td>\n",
       "      <td>not available</td>\n",
       "      <td>0</td>\n",
       "      <td>0</td>\n",
       "      <td>0</td>\n",
       "      <td>0</td>\n",
       "      <td>-1</td>\n",
       "      <td>not available</td>\n",
       "      <td>0</td>\n",
       "      <td>not available</td>\n",
       "      <td>0</td>\n",
       "    </tr>\n",
       "    <tr>\n",
       "      <th>3</th>\n",
       "      <td>69292</td>\n",
       "      <td>-37.849491</td>\n",
       "      <td>145.040852</td>\n",
       "      <td>70A Milton Parade</td>\n",
       "      <td>not available</td>\n",
       "      <td>7028000</td>\n",
       "      <td>house</td>\n",
       "      <td>2013</td>\n",
       "      <td>4</td>\n",
       "      <td>2</td>\n",
       "      <td>...</td>\n",
       "      <td>not available</td>\n",
       "      <td>0</td>\n",
       "      <td>0</td>\n",
       "      <td>0</td>\n",
       "      <td>0</td>\n",
       "      <td>-1</td>\n",
       "      <td>not available</td>\n",
       "      <td>0</td>\n",
       "      <td>not available</td>\n",
       "      <td>0</td>\n",
       "    </tr>\n",
       "    <tr>\n",
       "      <th>4</th>\n",
       "      <td>14700</td>\n",
       "      <td>-37.759210</td>\n",
       "      <td>144.896152</td>\n",
       "      <td>65 Fawkner Street</td>\n",
       "      <td>not available</td>\n",
       "      <td>15730000</td>\n",
       "      <td>house</td>\n",
       "      <td>2015</td>\n",
       "      <td>4</td>\n",
       "      <td>3</td>\n",
       "      <td>...</td>\n",
       "      <td>not available</td>\n",
       "      <td>0</td>\n",
       "      <td>0</td>\n",
       "      <td>0</td>\n",
       "      <td>0</td>\n",
       "      <td>-1</td>\n",
       "      <td>not available</td>\n",
       "      <td>0</td>\n",
       "      <td>not available</td>\n",
       "      <td>0</td>\n",
       "    </tr>\n",
       "  </tbody>\n",
       "</table>\n",
       "<p>5 rows × 21 columns</p>\n",
       "</div>"
      ],
      "text/plain": [
       "   property_id        lat         lng         addr_street         suburb  \\\n",
       "0        48394 -37.807036  145.053244     4 Downton Grove  not available   \n",
       "1        86340 -37.915430  145.000011  20 Lawrence Street  not available   \n",
       "2        91282 -37.980495  145.038626   149 Dalgetty Road  not available   \n",
       "3        69292 -37.849491  145.040852   70A Milton Parade  not available   \n",
       "4        14700 -37.759210  144.896152   65 Fawkner Street  not available   \n",
       "\n",
       "      price property_type  year  bedrooms  bathrooms  ...  Shopping_center_id  \\\n",
       "0  15030000         house  2010         4          2  ...       not available   \n",
       "1   4740000         house  2016         5          2  ...       not available   \n",
       "2  15820000         house  2010         4          2  ...       not available   \n",
       "3   7028000         house  2013         4          2  ...       not available   \n",
       "4  15730000         house  2015         4          3  ...       not available   \n",
       "\n",
       "  Distance_to_sc  Train_station_id  Distance_to_train_station  \\\n",
       "0              0                 0                          0   \n",
       "1              0                 0                          0   \n",
       "2              0                 0                          0   \n",
       "3              0                 0                          0   \n",
       "4              0                 0                          0   \n",
       "\n",
       "   travel_min_to_CBD  Transfer_flag    Hospital_id Distance_to_hospital  \\\n",
       "0                  0             -1  not available                    0   \n",
       "1                  0             -1  not available                    0   \n",
       "2                  0             -1  not available                    0   \n",
       "3                  0             -1  not available                    0   \n",
       "4                  0             -1  not available                    0   \n",
       "\n",
       "   Supermarket_id Distance_to_supermarket  \n",
       "0   not available                       0  \n",
       "1   not available                       0  \n",
       "2   not available                       0  \n",
       "3   not available                       0  \n",
       "4   not available                       0  \n",
       "\n",
       "[5 rows x 21 columns]"
      ]
     },
     "execution_count": 10,
     "metadata": {},
     "output_type": "execute_result"
    }
   ],
   "source": [
    "# Adding columns with default value\n",
    "df_json_xml.insert(4,'suburb', 'not available')\n",
    "df_json_xml.insert(11,'Shopping_center_id', 'not available')\n",
    "df_json_xml.insert(12,'Distance_to_sc', 0)\n",
    "df_json_xml.insert(13,'Train_station_id', 0)\n",
    "df_json_xml.insert(14,'Distance_to_train_station', 0)\n",
    "df_json_xml.insert(15,'travel_min_to_CBD', 0)\n",
    "df_json_xml.insert(16,'Transfer_flag', '-1')\n",
    "df_json_xml.insert(17,'Hospital_id', 'not available')\n",
    "df_json_xml.insert(18,'Distance_to_hospital', 0)\n",
    "df_json_xml.insert(19,'Supermarket_id', 'not available')\n",
    "df_json_xml.insert(20,'Distance_to_supermarket', 0)\n",
    "\n",
    "df_json_xml.head()"
   ]
  },
  {
   "cell_type": "markdown",
   "metadata": {},
   "source": [
    "### 1) suburb"
   ]
  },
  {
   "cell_type": "code",
   "execution_count": 11,
   "metadata": {},
   "outputs": [],
   "source": [
    "sf = shapefile.Reader('./vic_suburb_boundary/VIC_LOCALITY_POLYGON_shp.shp') # read shapefile\n",
    "sf_records = sf.records() # get the records\n",
    "sf_shapes = sf.shapes() # get the shape\n",
    "\n",
    "sf_coordinates = []\n",
    "# for loop for coordinates in shapefile\n",
    "for index in range(0, len(sf_shapes)):\n",
    "    sf_coordinates.append(sf_shapes[index].points) # getting the coordinates\n",
    "# for loop for lat and long in datafile\n",
    "final_coordinates = []\n",
    "for index in range(0, len(df_json_xml)):\n",
    "    # empty list\n",
    "    temp = []\n",
    "    # get the coordinates\n",
    "    a1 = (df_json_xml.loc[index, 'lng']) #longitude of coordinate\n",
    "    a2 = (df_json_xml.loc[index, 'lat'])# latitude of coordinate\n",
    "    # add the data\n",
    "    temp.append(a1)\n",
    "    temp.append(a2)\n",
    "    # tuple and add the data\n",
    "    final_coordinates.append(tuple(temp)) # tuple the data\n",
    "#empty list\n",
    "suburb_data=[]\n",
    "# for loop to match the coordinates\n",
    "for index_1 in range(0, len(final_coordinates)):\n",
    "    for index_2 in range(0, len(sf_coordinates)):\n",
    "        # Check the point and polygon  of data\n",
    "        point_data = Point(final_coordinates[index_1]) # Get the point \n",
    "        polygon_data = Polygon(sf_coordinates[index_2]) # Get all of the polygon in one point\n",
    "        # add the data\n",
    "        if (polygon_data.contains(point_data)):\n",
    "            suburb_data.append(sf_records[index_2][6].title()) # add the polygon coordinates\n",
    "\n",
    "df_json_xml['suburb'] = suburb_data"
   ]
  },
  {
   "cell_type": "code",
   "execution_count": 12,
   "metadata": {},
   "outputs": [],
   "source": [
    "# suburb_data"
   ]
  },
  {
   "cell_type": "markdown",
   "metadata": {},
   "source": [
    "### Haversine Distance Function"
   ]
  },
  {
   "cell_type": "code",
   "execution_count": 13,
   "metadata": {},
   "outputs": [],
   "source": [
    "def distance(lat1, lat2, lon1, lon2): \n",
    "\n",
    "    # The math module contains a function named radians which converts from degrees to radians. \n",
    "    lon1 = radians(lon1) \n",
    "    lon2 = radians(lon2) \n",
    "    lat1 = radians(lat1) \n",
    "    lat2 = radians(lat2) \n",
    "    \n",
    "    # Haversine formula  \n",
    "    dlon = lon2 - lon1  \n",
    "    dlat = lat2 - lat1 \n",
    "    \n",
    "    a = sin(dlat / 2)**2 + cos(lat1) * cos(lat2) * sin(dlon / 2)**2\n",
    "    c = 2 * asin(sqrt(a))  \n",
    "    \n",
    "    # Radius of earth in kilometers. Use 6378 for miles \n",
    "    r = 6378\n",
    "    \n",
    "    # calculate and return the result \n",
    "    return(c * r * 1000)"
   ]
  },
  {
   "cell_type": "markdown",
   "metadata": {},
   "source": [
    "### 2) Shopping_center_id\n",
    "\n",
    "### 3) Distance_to_sc\n"
   ]
  },
  {
   "cell_type": "code",
   "execution_count": 14,
   "metadata": {},
   "outputs": [],
   "source": [
    "min_shopping_center_distance = []\n",
    "min_shopping_center_id = []\n",
    "\n",
    "for item_1, value_1 in enumerate(df_json_xml.loc[:,'lat']):\n",
    "\n",
    "    all_dis = {}\n",
    "    \n",
    "    lat1 = df_json_xml.loc[item_1, 'lat']\n",
    "    lon1 = df_json_xml.loc[item_1, 'lng']\n",
    "\n",
    "    for item_2 , value_2 in enumerate(df_html.loc[:, 'sc_id']):\n",
    "\n",
    "        lat2 = df_html.loc[item_2, 'lat']\n",
    "        lon2 = df_html.loc[item_2, 'lng']\n",
    "        dist_cal = round(distance(lat1, lat2, lon1, lon2), 3) # calculating the distance\n",
    "        \n",
    "        nam_dist_dict = {value_2: dist_cal}\n",
    "        all_dis.update(nam_dist_dict)\n",
    "\n",
    "    min_dist_id_sc = min(all_dis, key=all_dis.get) # Minimum value\n",
    "    min_dist_sc = min(all_dis.values()) # Minimum value\n",
    "\n",
    "    min_shopping_center_distance.append(min_dist_sc)\n",
    "    min_shopping_center_id.append(min_dist_id_sc)\n",
    "\n",
    "df_json_xml['Shopping_center_id'] = min_shopping_center_id\n",
    "df_json_xml['Distance_to_sc'] = min_shopping_center_distance\n"
   ]
  },
  {
   "cell_type": "markdown",
   "metadata": {},
   "source": [
    "### 4) Train_station_id, \n",
    "### 5) Distance_to_train_station"
   ]
  },
  {
   "cell_type": "code",
   "execution_count": 15,
   "metadata": {},
   "outputs": [],
   "source": [
    "min_train_station_id = []\n",
    "min_train_station_distance = []\n",
    "\n",
    "for item_1, value_1 in enumerate(df_json_xml.loc[:,'lat']):\n",
    "    \n",
    "    all_dis = {}\n",
    "    \n",
    "    lat1 = df_json_xml.loc[item_1, 'lat']\n",
    "    lon1 = df_json_xml.loc[item_1, 'lng']\n",
    "    \n",
    "    for item_2 , value_2 in enumerate(stops.loc[:, 'stop_id']):\n",
    "        \n",
    "        lat2 = stops.loc[item_2, 'stop_lat']\n",
    "        lon2 = stops.loc[item_2, 'stop_lon']\n",
    "        \n",
    "        dist_cal = round(distance(lat1, lat2, lon1, lon2), 3) # calculating the distance\n",
    "        \n",
    "        nam_dist_dict = {value_2: dist_cal}\n",
    "        all_dis.update(nam_dist_dict)\n",
    "    \n",
    "    min_dist_id_sc = min(all_dis, key=all_dis.get) # Minimum value\n",
    "    min_dist_sc = min(all_dis.values()) # minimum value\n",
    "    \n",
    "    min_train_station_id.append(min_dist_id_sc)\n",
    "    min_train_station_distance.append(min_dist_sc)\n",
    "\n",
    "df_json_xml['Train_station_id'] = min_train_station_id\n",
    "df_json_xml['Distance_to_train_station'] = min_train_station_distance\n"
   ]
  },
  {
   "cell_type": "markdown",
   "metadata": {},
   "source": [
    "### 6) Hospital_id \n",
    "### 7) Distance_to_hospital"
   ]
  },
  {
   "cell_type": "code",
   "execution_count": 16,
   "metadata": {},
   "outputs": [],
   "source": [
    "min_hospital_id = []\n",
    "min_hospital_distance = []\n",
    "\n",
    "for item_1, value_1 in enumerate(df_json_xml.loc[:,'lat']):\n",
    "    \n",
    "    all_dis = {}\n",
    "    \n",
    "    lat1 = df_json_xml.loc[item_1, 'lat']\n",
    "    lon1 = df_json_xml.loc[item_1, 'lng']\n",
    "    \n",
    "    for item_2 , value_2 in enumerate(df_pdf.loc[:, 'id']):\n",
    "        \n",
    "        lat2 = df_pdf.loc[item_2, 'lat']\n",
    "        lon2 = df_pdf.loc[item_2, 'lng']\n",
    "        \n",
    "        dist_cal = round(distance(lat1, lat2, lon1, lon2), 3) # calculating the distance\n",
    "        \n",
    "        nam_dist_dict = {value_2: dist_cal}\n",
    "        all_dis.update(nam_dist_dict)\n",
    "    \n",
    "    min_dist_id_sc = min(all_dis, key=all_dis.get) # minimum value\n",
    "    min_dist_sc = min(all_dis.values()) # minimum value\n",
    "    \n",
    "    min_hospital_id.append(min_dist_id_sc) \n",
    "    min_hospital_distance.append(min_dist_sc)\n",
    "\n",
    "df_json_xml['Hospital_id'] = min_hospital_id\n",
    "df_json_xml['Distance_to_hospital'] = min_hospital_distance\n"
   ]
  },
  {
   "cell_type": "markdown",
   "metadata": {},
   "source": [
    "### 8) Supermarket_id\n",
    "### 9) Distance_to_supermarket"
   ]
  },
  {
   "cell_type": "code",
   "execution_count": 17,
   "metadata": {},
   "outputs": [],
   "source": [
    "min_supermarket_id = []\n",
    "min_supermarket_distance = []\n",
    "\n",
    "for item_1, value_1 in enumerate(df_json_xml.loc[:,'lat']):\n",
    "\n",
    "    all_dis = {}\n",
    "    \n",
    "    lat1 = df_json_xml.loc[item_1, 'lat']\n",
    "    lon1 = df_json_xml.loc[item_1, 'lng']\n",
    "\n",
    "    for item_2 , value_2 in enumerate(df_excel.loc[:, 'id']):\n",
    "\n",
    "        lat2 = df_excel.loc[item_2, 'lat']\n",
    "        lon2 = df_excel.loc[item_2, 'lng']\n",
    "        \n",
    "        dist_cal = round(distance(lat1, lat2, lon1, lon2), 3) # calculating the distance\n",
    "        \n",
    "        nam_dist_dict = {value_2: dist_cal}\n",
    "        all_dis.update(nam_dist_dict)\n",
    "\n",
    "    min_dist_id_sc = min(all_dis, key=all_dis.get) # minimum vaule\n",
    "    min_dist_sc = min(all_dis.values()) # minimum value\n",
    "\n",
    "    min_supermarket_id.append(min_dist_id_sc)\n",
    "    min_supermarket_distance.append(min_dist_sc)\n",
    "\n",
    "df_json_xml['Supermarket_id'] = min_supermarket_id\n",
    "df_json_xml['Distance_to_supermarket'] = min_supermarket_distance\n"
   ]
  },
  {
   "cell_type": "markdown",
   "metadata": {},
   "source": [
    "### 10) train_min_to_CBD"
   ]
  },
  {
   "cell_type": "code",
   "execution_count": 18,
   "metadata": {},
   "outputs": [],
   "source": [
    "# Join txt file\n",
    "stops_stoptimes = pd.merge(stops, stop_times, on = 'stop_id', how = 'left')\n",
    "stops_stoptimes_trips = pd.merge(stops_stoptimes, trips, on = 'trip_id', how = 'left')\n",
    "# get the weekdays\n",
    "cols = ['monday', 'tuesday', 'wednesday', 'thursday', 'friday']\n",
    "weekdays = calendar[(calendar[cols[0]] == 1) & (calendar[cols[1]] == 1) & (calendar[cols[2]] == 1) & (calendar[cols[3]] == 1) & (calendar[cols[4]] == 1)].reset_index(drop=True)\n",
    "# join weekdays data\n",
    "joined_all = pd.merge(stops_stoptimes_trips, weekdays['service_id'], on = 'service_id', how = 'inner')\n",
    "# finders stop details\n",
    "joined_finders = joined_all[(joined_all['stop_name'] == 'Flinders Street Railway Station')]\n",
    "joined_finders = joined_finders.rename(columns = {'trip_id': 'f_trip_id', 'arrival_time': 'f_arrival_time', 'departure_time': 'f_dept_time'})\n",
    "# function for time between 7-9\n",
    "def func_dep(time):\n",
    "    time_lt = time.split(\":\")\n",
    "    hour = int(time_lt[0])\n",
    "    min = int(time_lt[1])\n",
    "    if (hour >= 7) and (hour <= 9):\n",
    "        return 1\n",
    "    else:\n",
    "        return 0\n",
    "# dataframe time between 7-9\n",
    "joined_all['departure'] = joined_all.apply(lambda x:func_dep(x['departure_time']), axis=1)\n",
    "joined_all = joined_all[joined_all['departure'] == 1]\n",
    "# Join all the data\n",
    "joined_all_df = pd.merge(joined_all, joined_finders[['f_trip_id', 'f_arrival_time', 'f_dept_time']], left_on = 'trip_id', right_on = 'f_trip_id', how = 'left')\n",
    "joined_all_df['f_arrival_time'] = pd.to_datetime(joined_all_df['f_arrival_time'], errors='ignore')\n",
    "joined_all_df['departure_time'] = pd.to_datetime(joined_all_df['departure_time'], errors='ignore')\n",
    "# get the average\n",
    "joined_all_df['travel_min_to_CBD'] = (joined_all_df['f_arrival_time'] - joined_all_df['departure_time']) / (np.timedelta64(1, 'm'))\n",
    "joined_all_df = joined_all_df[joined_all_df['travel_min_to_CBD'] >= 0]\n",
    "# group by average\n",
    "avg_time = joined_all_df.groupby(['stop_id', 'stop_name', 'stop_lat','stop_lon'])['travel_min_to_CBD'].mean().round(2)\n",
    "avg_time = avg_time.reset_index()\n",
    "# add the average data to dataframe\n",
    "for item, value in enumerate(df_json_xml.loc[:,'Train_station_id']):\n",
    "    if value in list(avg_time['stop_id']):\n",
    "        time = avg_time.loc[avg_time['stop_id'] == value]['travel_min_to_CBD'].values[0]\n",
    "        df_json_xml.loc[item, 'travel_min_to_CBD'] = time"
   ]
  },
  {
   "cell_type": "markdown",
   "metadata": {},
   "source": [
    "### 11) Transfer_flag"
   ]
  },
  {
   "cell_type": "code",
   "execution_count": 19,
   "metadata": {},
   "outputs": [],
   "source": [
    "direct_train_id = [] \n",
    "# get finders street data\n",
    "for i, j in enumerate(routes.loc[:, 'route_long_name']):\n",
    "    name = str(j).split(' - ')\n",
    "    if ((name[0] == 'City (Flinders Street)') | (name[1] == 'City (Flinders Street)')):\n",
    "        direct_train_id.append(routes.loc[i, 'route_id'])\n",
    "df_dt_id = pd.DataFrame(direct_train_id)  \n",
    "# Join the data\n",
    "join_df=pd.merge(df_dt_id,trips[['route_id', 'trip_id', 'service_id']], left_on=0, right_on='route_id',how='left')\n",
    "join_df1=pd.merge(join_df,stop_times[['trip_id', 'stop_id', 'departure_time']], on='trip_id',how='left')\n",
    "join_df2=pd.merge(join_df1,weekdays['service_id'],on='service_id',how='inner')\n",
    "join_df2['Departure Time Indicator']=join_df2.apply(lambda x:func_dep(x['departure_time']),axis=1)\n",
    "join_df3=join_df2[join_df2['Departure Time Indicator']==1]\n",
    "# check if last stop is finders or not\n",
    "for i, j in enumerate(df_json_xml.loc[:,'Train_station_id']):\n",
    "    if j in list(join_df3['stop_id']):\n",
    "        df_json_xml.loc[i, 'Transfer_flag'] = 0\n",
    "    else:\n",
    "        df_json_xml.loc[i, 'Transfer_flag'] = 1"
   ]
  },
  {
   "cell_type": "markdown",
   "metadata": {},
   "source": [
    "### Remove duplicate"
   ]
  },
  {
   "cell_type": "code",
   "execution_count": 20,
   "metadata": {
    "scrolled": true
   },
   "outputs": [],
   "source": [
    "# deleting duplicates\n",
    "df_json_xml = df_json_xml.drop_duplicates(subset='property_id')"
   ]
  },
  {
   "cell_type": "markdown",
   "metadata": {},
   "source": [
    "## Write Data"
   ]
  },
  {
   "cell_type": "code",
   "execution_count": 21,
   "metadata": {},
   "outputs": [],
   "source": [
    "# Output the file by using to_csv file\n",
    "df_json_xml.to_csv('31132324_A3_solution.csv', index=False)"
   ]
  },
  {
   "cell_type": "markdown",
   "metadata": {},
   "source": [
    "________________________\n",
    "\n",
    "\n",
    "# Task 2\n",
    "\n",
    "## Normalization/Transformation methods\n",
    "\n",
    "Before starting the prediction of data, data needs to go through multiple methods. One of these methods is called normalization or transformation method. The data is called skewed when the curve appears disordered in a normal distribution. \n",
    "Raw data is always unfit for direct consumption for analysis or modelling. It is in concern when the data volume is huge. \n",
    "\n",
    "Normalisation is a process that involves changing numerical values into a new range using a mathematical function. It is a systematic approach for data preparation for machine learning.\n",
    "\n",
    "Some of the Normalization/Transformation methods include:\n",
    "Standardization, min-max normalization, log, power, box-cox transformation."
   ]
  },
  {
   "cell_type": "code",
   "execution_count": 22,
   "metadata": {},
   "outputs": [],
   "source": [
    "# Indepedent and dependent variables\n",
    "train = df_json_xml[['Distance_to_sc',  'travel_min_to_CBD', 'Distance_to_hospital']]\n",
    "target = df_json_xml[['price']]"
   ]
  },
  {
   "cell_type": "code",
   "execution_count": 23,
   "metadata": {},
   "outputs": [
    {
     "data": {
      "text/plain": [
       "<AxesSubplot:>"
      ]
     },
     "execution_count": 23,
     "metadata": {},
     "output_type": "execute_result"
    },
    {
     "data": {
      "image/png": "[encoded data removed]",
      "text/plain": [
       "<Figure size 432x288 with 1 Axes>"
      ]
     },
     "metadata": {
      "needs_background": "light"
     },
     "output_type": "display_data"
    }
   ],
   "source": [
    "# Check skewness of data\n",
    "train['Distance_to_sc'].hist()"
   ]
  },
  {
   "cell_type": "code",
   "execution_count": 24,
   "metadata": {},
   "outputs": [
    {
     "data": {
      "text/plain": [
       "<AxesSubplot:>"
      ]
     },
     "execution_count": 24,
     "metadata": {},
     "output_type": "execute_result"
    },
    {
     "data": {
      "image/png": "[encoded data removed]",
      "text/plain": [
       "<Figure size 432x288 with 1 Axes>"
      ]
     },
     "metadata": {
      "needs_background": "light"
     },
     "output_type": "display_data"
    }
   ],
   "source": [
    "train['travel_min_to_CBD'].hist()"
   ]
  },
  {
   "cell_type": "code",
   "execution_count": 25,
   "metadata": {},
   "outputs": [
    {
     "data": {
      "text/plain": [
       "<AxesSubplot:>"
      ]
     },
     "execution_count": 25,
     "metadata": {},
     "output_type": "execute_result"
    },
    {
     "data": {
      "image/png": "[encoded data removed]",
      "text/plain": [
       "<Figure size 432x288 with 1 Axes>"
      ]
     },
     "metadata": {
      "needs_background": "light"
     },
     "output_type": "display_data"
    }
   ],
   "source": [
    "train['Distance_to_hospital'].hist()"
   ]
  },
  {
   "cell_type": "markdown",
   "metadata": {},
   "source": [
    "From the above graphs we are able to see the skewness \"Distance_to_sc\", \"travel_min_to_CBD\" and \"Distance_to_hospital\". We are using these independent variables to predict the \"Price\" variable. We can see that all the independent variable are skewed. hist() is a function to plot the skewness of the data. \n",
    "\n",
    " - Distance_to_sc - Most of the data lies between 1000 - 3000\n",
    "\n",
    " - travel_min_to_CBD - Most of the data lies between 20 - 40\n",
    "\n",
    " - Distance_to_hospital - Most of the data lies between 0 - 3000 \n",
    " \n",
    " To normalize the data for distribution, we can use the below methods."
   ]
  },
  {
   "cell_type": "markdown",
   "metadata": {},
   "source": [
    "### 1) Standardization: \n",
    "\n",
    "Standardization is a process of making the data set comparable with other data sets. It is used to transform the skewed data into a normal and understandable format. Z-Score Transformation is the technique used the transformation. The result of standardization will rescale the features to ensure the mean and the standard deviation to be 0 and 1. \n",
    "\n",
    "preprocessing.StandardScaler() - Standardize features by removing the mean and scaling to unit variance\n",
    "\n",
    "fit() - Compute the mean and std to be used for later scaling.\n",
    "\n",
    "transform() - Perform standardization by centring and scaling"
   ]
  },
  {
   "cell_type": "code",
   "execution_count": 26,
   "metadata": {},
   "outputs": [],
   "source": [
    "stand_fit = preprocessing.StandardScaler().fit(train[[\"Distance_to_sc\",  \"travel_min_to_CBD\", \"Distance_to_hospital\"]])\n",
    "stand_transform = stand_fit.transform(train[[\"Distance_to_sc\",  \"travel_min_to_CBD\", \"Distance_to_hospital\"]])\n",
    "standard_df = pd.DataFrame(stand_transform, columns = [\"Distance_to_sc\",  \"travel_min_to_CBD\", \"Distance_to_hospital\"])"
   ]
  },
  {
   "cell_type": "code",
   "execution_count": 27,
   "metadata": {},
   "outputs": [
    {
     "data": {
      "text/plain": [
       "(<AxesSubplot:>, <AxesSubplot:>, <AxesSubplot:>)"
      ]
     },
     "execution_count": 27,
     "metadata": {},
     "output_type": "execute_result"
    },
    {
     "data": {
      "image/png": "[encoded data removed]",
      "text/plain": [
       "<Figure size 432x288 with 1 Axes>"
      ]
     },
     "metadata": {
      "needs_background": "light"
     },
     "output_type": "display_data"
    }
   ],
   "source": [
    "# Original data\n",
    "train[\"Distance_to_sc\"].plot(), train[\"travel_min_to_CBD\"].plot(), train[\"Distance_to_hospital\"].plot()"
   ]
  },
  {
   "cell_type": "code",
   "execution_count": 28,
   "metadata": {},
   "outputs": [
    {
     "data": {
      "text/plain": [
       "(<AxesSubplot:>, <AxesSubplot:>, <AxesSubplot:>)"
      ]
     },
     "execution_count": 28,
     "metadata": {},
     "output_type": "execute_result"
    },
    {
     "data": {
      "image/png": "[encoded data removed]",
      "text/plain": [
       "<Figure size 432x288 with 1 Axes>"
      ]
     },
     "metadata": {
      "needs_background": "light"
     },
     "output_type": "display_data"
    }
   ],
   "source": [
    "# Standarized Data\n",
    "standard_df[\"Distance_to_sc\"].plot(), standard_df[\"travel_min_to_CBD\"].plot(), standard_df[\"Distance_to_hospital\"].plot()"
   ]
  },
  {
   "cell_type": "markdown",
   "metadata": {},
   "source": [
    "The techniques of standardization are to rescale features value with the distribution value between 0 and 1. We can see that the variance has been chanced after using the Standard Scaler. Mean was brought closer for the dependent variable. Now we can use this to better predict the data. "
   ]
  },
  {
   "cell_type": "code",
   "execution_count": 29,
   "metadata": {},
   "outputs": [
    {
     "name": "stdout",
     "output_type": "stream",
     "text": [
      "Average : 0.00, -0.00, -0.00\n",
      "Variation : 1.00, 1.00, 1.00\n"
     ]
    }
   ],
   "source": [
    "print('Average : {:.2f}, {:.2f}, {:.2f}'.format(stand_transform[:,0].mean(), stand_transform[:,1].mean(),stand_transform[:,2].mean()))\n",
    "print('Variation : {:.2f}, {:.2f}, {:.2f}'.format(stand_transform[:,0].std(), stand_transform[:,1].std(),stand_transform[:,2].std()))"
   ]
  },
  {
   "cell_type": "markdown",
   "metadata": {},
   "source": [
    "### 2) Min Max Normalization\n",
    "\n",
    "It is one of the most common normalization transformation. The minimum value of the features get transformed into 0 and maximum value get transformed into 1. And every other value gets transformed into a decimal value between 0 and 1. One of the downside of min max normalization is that it doesn't handle outliers data. \n",
    "\n",
    " - preprocessing.MinMaxScaler() - is used to do the transformation"
   ]
  },
  {
   "cell_type": "code",
   "execution_count": 30,
   "metadata": {},
   "outputs": [],
   "source": [
    "# MinMax scaling\n",
    "minmax_fit = preprocessing.MinMaxScaler().fit(train[['Distance_to_sc',  'travel_min_to_CBD', 'Distance_to_hospital']])\n",
    "#Tranformation\n",
    "minmax_trans = minmax_fit.transform(train[['Distance_to_sc',  'travel_min_to_CBD', 'Distance_to_hospital']])"
   ]
  },
  {
   "cell_type": "code",
   "execution_count": 31,
   "metadata": {},
   "outputs": [
    {
     "data": {
      "text/plain": [
       "<matplotlib.legend.Legend at 0x2a400e25730>"
      ]
     },
     "execution_count": 31,
     "metadata": {},
     "output_type": "execute_result"
    },
    {
     "data": {
      "image/png": "[encoded data removed]",
      "text/plain": [
       "<Figure size 432x288 with 1 Axes>"
      ]
     },
     "metadata": {
      "needs_background": "light"
     },
     "output_type": "display_data"
    }
   ],
   "source": [
    "plt.scatter(stand_transform[:,0],  stand_transform[:,1], color='yellow', label='Standardized') \n",
    "plt.scatter(minmax_trans[:,0],  minmax_trans[:,1], color='green', label='Min Max Transformation')\n",
    "\n",
    "plt.xlabel('Distance_to_sc')\n",
    "plt.ylabel('travel_min_to_CBD')\n",
    "plt.legend(loc = 'upper right')"
   ]
  },
  {
   "cell_type": "code",
   "execution_count": 32,
   "metadata": {},
   "outputs": [
    {
     "data": {
      "text/plain": [
       "<matplotlib.legend.Legend at 0x2a400e8a790>"
      ]
     },
     "execution_count": 32,
     "metadata": {},
     "output_type": "execute_result"
    },
    {
     "data": {
      "image/png": "[encoded data removed]",
      "text/plain": [
       "<Figure size 432x288 with 1 Axes>"
      ]
     },
     "metadata": {
      "needs_background": "light"
     },
     "output_type": "display_data"
    }
   ],
   "source": [
    "plt.scatter(stand_transform[:,1],  stand_transform[:,2], color='yellow', label='Standardized') \n",
    "plt.scatter(minmax_trans[:,1],  minmax_trans[:,2], color='green', label='Min Max Transformation')\n",
    "\n",
    "plt.xlabel('travel_min_to_CBD')\n",
    "plt.ylabel('Distance_to_hospital')\n",
    "plt.legend(loc = 'upper right')"
   ]
  },
  {
   "cell_type": "code",
   "execution_count": 33,
   "metadata": {},
   "outputs": [
    {
     "data": {
      "text/plain": [
       "<matplotlib.legend.Legend at 0x2a400ee5ca0>"
      ]
     },
     "execution_count": 33,
     "metadata": {},
     "output_type": "execute_result"
    },
    {
     "data": {
      "image/png": "[encoded data removed]",
      "text/plain": [
       "<Figure size 432x288 with 1 Axes>"
      ]
     },
     "metadata": {
      "needs_background": "light"
     },
     "output_type": "display_data"
    }
   ],
   "source": [
    "plt.scatter(stand_transform[:,0],  stand_transform[:,2], color='yellow', label='Standardized') \n",
    "plt.scatter(minmax_trans[:,0],  minmax_trans[:,2], color='green', label='Min Max Transformation')\n",
    "\n",
    "plt.xlabel('Distance_to_sc')\n",
    "plt.ylabel('Distance_to_hospital')\n",
    "plt.legend(loc = 'upper right')"
   ]
  },
  {
   "cell_type": "code",
   "execution_count": 34,
   "metadata": {},
   "outputs": [
    {
     "name": "stdout",
     "output_type": "stream",
     "text": [
      "Minimum value : 0.00, 0.00, 0.00\n",
      "Maximum value : 1.00, 1.00, 1.00\n"
     ]
    }
   ],
   "source": [
    "print('Minimum value : {:.2f}, {:.2f}, {:.2f}'.format(minmax_trans[:,0].min(),  minmax_trans[:,1].min(), minmax_trans[:,2].min()))\n",
    "print('Maximum value : {:.2f}, {:.2f}, {:.2f}'.format(minmax_trans[:,0].max(),  minmax_trans[:,1].max(), minmax_trans[:,2].max()))"
   ]
  },
  {
   "cell_type": "markdown",
   "metadata": {},
   "source": [
    "From the above graph, we can see that Min-Max scaling is an alternative approach to standardization. The data is scaled to a fixed range from 0 to 1. The cost Min-Max scaling comparing with standardization is that we can get a smaller standard deviation like in a graph. It is used to suppress the effect of outliers as well. "
   ]
  },
  {
   "cell_type": "markdown",
   "metadata": {},
   "source": [
    "### 3) Log Transformation:\n",
    "\n",
    "Log transformation can be used to make highly skewed data into less skewed one. The is valuable for making patterns in the data and to predict the data depending upon the statistics. Log transformation helps to make transformation more visible. "
   ]
  },
  {
   "cell_type": "code",
   "execution_count": 35,
   "metadata": {},
   "outputs": [
    {
     "data": {
      "text/plain": [
       "<matplotlib.collections.PathCollection at 0x2a405d547c0>"
      ]
     },
     "execution_count": 35,
     "metadata": {},
     "output_type": "execute_result"
    },
    {
     "data": {
      "image/png": "[encoded data removed]",
      "text/plain": [
       "<Figure size 432x288 with 1 Axes>"
      ]
     },
     "metadata": {
      "needs_background": "light"
     },
     "output_type": "display_data"
    }
   ],
   "source": [
    "# Original data\n",
    "plt.scatter(train.Distance_to_sc, target.price)"
   ]
  },
  {
   "cell_type": "code",
   "execution_count": 36,
   "metadata": {},
   "outputs": [
    {
     "data": {
      "text/plain": [
       "<matplotlib.collections.PathCollection at 0x2a405dc7970>"
      ]
     },
     "execution_count": 36,
     "metadata": {},
     "output_type": "execute_result"
    },
    {
     "data": {
      "image/png": "[encoded data removed]",
      "text/plain": [
       "<Figure size 432x288 with 1 Axes>"
      ]
     },
     "metadata": {
      "needs_background": "light"
     },
     "output_type": "display_data"
    }
   ],
   "source": [
    "plt.scatter(train.travel_min_to_CBD, target.price)"
   ]
  },
  {
   "cell_type": "code",
   "execution_count": 37,
   "metadata": {},
   "outputs": [
    {
     "data": {
      "text/plain": [
       "<matplotlib.collections.PathCollection at 0x2a405f49e20>"
      ]
     },
     "execution_count": 37,
     "metadata": {},
     "output_type": "execute_result"
    },
    {
     "data": {
      "image/png": "[encoded data removed]",
      "text/plain": [
       "<Figure size 432x288 with 1 Axes>"
      ]
     },
     "metadata": {
      "needs_background": "light"
     },
     "output_type": "display_data"
    }
   ],
   "source": [
    "plt.scatter(train.Distance_to_hospital, target.price)"
   ]
  },
  {
   "cell_type": "code",
   "execution_count": 38,
   "metadata": {},
   "outputs": [
    {
     "name": "stderr",
     "output_type": "stream",
     "text": [
      "RuntimeWarning: divide by zero encountered in log10 [series.py:726]\n"
     ]
    }
   ],
   "source": [
    "#log transformations\n",
    "log_transform = train.apply(lambda x : np.log10(x), axis=1)\n",
    "log_transform_1 = target.apply(lambda x : np.log10(x), axis=1)"
   ]
  },
  {
   "cell_type": "code",
   "execution_count": 39,
   "metadata": {},
   "outputs": [
    {
     "data": {
      "text/plain": [
       "<matplotlib.collections.PathCollection at 0x2a4060a86a0>"
      ]
     },
     "execution_count": 39,
     "metadata": {},
     "output_type": "execute_result"
    },
    {
     "data": {
      "image/png": "[encoded data removed]",
      "text/plain": [
       "<Figure size 432x288 with 1 Axes>"
      ]
     },
     "metadata": {
      "needs_background": "light"
     },
     "output_type": "display_data"
    }
   ],
   "source": [
    "plt.scatter(log_transform.Distance_to_sc, log_transform_1.price)"
   ]
  },
  {
   "cell_type": "code",
   "execution_count": 40,
   "metadata": {},
   "outputs": [
    {
     "data": {
      "text/plain": [
       "<matplotlib.collections.PathCollection at 0x2a405d3d730>"
      ]
     },
     "execution_count": 40,
     "metadata": {},
     "output_type": "execute_result"
    },
    {
     "data": {
      "image/png": "[encoded data removed]",
      "text/plain": [
       "<Figure size 432x288 with 1 Axes>"
      ]
     },
     "metadata": {
      "needs_background": "light"
     },
     "output_type": "display_data"
    }
   ],
   "source": [
    "plt.scatter(log_transform.travel_min_to_CBD, log_transform_1.price)"
   ]
  },
  {
   "cell_type": "code",
   "execution_count": 41,
   "metadata": {},
   "outputs": [
    {
     "data": {
      "text/plain": [
       "<matplotlib.collections.PathCollection at 0x2a405fc07f0>"
      ]
     },
     "execution_count": 41,
     "metadata": {},
     "output_type": "execute_result"
    },
    {
     "data": {
      "image/png": "[encoded data removed]",
      "text/plain": [
       "<Figure size 432x288 with 1 Axes>"
      ]
     },
     "metadata": {
      "needs_background": "light"
     },
     "output_type": "display_data"
    }
   ],
   "source": [
    "plt.scatter(log_transform.Distance_to_hospital, log_transform_1.price)"
   ]
  },
  {
   "cell_type": "markdown",
   "metadata": {},
   "source": [
    "From the above graph, we can see the difference between the original correlation between the independent variable and dependent variable and the correlation after the transformation. The first three scatter plots are the correlation of original data. And the last three scatter plots are the correlation of the log transform data. \n",
    "\n",
    "Log Transformation makes the patterns more visible. The plots show that there is a strong relationship between these variables."
   ]
  },
  {
   "cell_type": "code",
   "execution_count": 42,
   "metadata": {},
   "outputs": [
    {
     "data": {
      "image/png": "[encoded data removed]",
      "text/plain": [
       "<Figure size 432x288 with 1 Axes>"
      ]
     },
     "metadata": {
      "needs_background": "light"
     },
     "output_type": "display_data"
    }
   ],
   "source": [
    "train['Distance_to_hospital'].apply(np.log).hist()\n",
    "target['price'].apply(np.log).hist()\n",
    "plt.show()"
   ]
  },
  {
   "cell_type": "markdown",
   "metadata": {},
   "source": [
    "From the above graphs, we can see the uniqueness between the independent variables. Before using Log Transformation the clustering were not normally distributed. But after applying it, Data has been clustered together. "
   ]
  },
  {
   "cell_type": "markdown",
   "metadata": {},
   "source": [
    "### 4) Power Transformation\n",
    "\n",
    "It is used to make the probability distribution of a variable more normal. This is used for removing the skewness in the distribution. It can be applied directly by calculating the log or square root of the variables. "
   ]
  },
  {
   "cell_type": "code",
   "execution_count": 43,
   "metadata": {},
   "outputs": [],
   "source": [
    "# power transformation\n",
    "power_transform = train.apply(lambda x : np.power(x, 2), axis=1)\n",
    "power_transform_1 = target.apply(lambda x : np.power(x, 2), axis=1)"
   ]
  },
  {
   "cell_type": "code",
   "execution_count": 44,
   "metadata": {},
   "outputs": [
    {
     "data": {
      "text/plain": [
       "<matplotlib.collections.PathCollection at 0x2a406135880>"
      ]
     },
     "execution_count": 44,
     "metadata": {},
     "output_type": "execute_result"
    },
    {
     "data": {
      "image/png": "[encoded data removed]",
      "text/plain": [
       "<Figure size 432x288 with 1 Axes>"
      ]
     },
     "metadata": {
      "needs_background": "light"
     },
     "output_type": "display_data"
    }
   ],
   "source": [
    "plt.scatter(power_transform.Distance_to_sc, power_transform_1.price)"
   ]
  },
  {
   "cell_type": "code",
   "execution_count": 45,
   "metadata": {},
   "outputs": [
    {
     "data": {
      "text/plain": [
       "<matplotlib.collections.PathCollection at 0x2a4062e4130>"
      ]
     },
     "execution_count": 45,
     "metadata": {},
     "output_type": "execute_result"
    },
    {
     "data": {
      "image/png": "[encoded data removed]",
      "text/plain": [
       "<Figure size 432x288 with 1 Axes>"
      ]
     },
     "metadata": {
      "needs_background": "light"
     },
     "output_type": "display_data"
    }
   ],
   "source": [
    "plt.scatter(power_transform.travel_min_to_CBD, power_transform_1.price)"
   ]
  },
  {
   "cell_type": "code",
   "execution_count": 46,
   "metadata": {},
   "outputs": [
    {
     "data": {
      "text/plain": [
       "<matplotlib.collections.PathCollection at 0x2a40623a700>"
      ]
     },
     "execution_count": 46,
     "metadata": {},
     "output_type": "execute_result"
    },
    {
     "data": {
      "image/png": "[encoded data removed]",
      "text/plain": [
       "<Figure size 432x288 with 1 Axes>"
      ]
     },
     "metadata": {
      "needs_background": "light"
     },
     "output_type": "display_data"
    }
   ],
   "source": [
    "plt.scatter(power_transform.Distance_to_hospital, power_transform_1.price)"
   ]
  },
  {
   "cell_type": "markdown",
   "metadata": {},
   "source": [
    "The data is more stabilized concerning the variation in data. From the above graphs, we can see that the power transformer made the data distribution more Gaussian and standardized. It created the mean value as 0 and the standard deviation as 1."
   ]
  },
  {
   "cell_type": "markdown",
   "metadata": {},
   "source": [
    "### 5) Box Cox Transformation:\n",
    "\n",
    "It is a transformation of a non-normal dependent variable into a normal shape. It will select the best mathematical function for the data transformation. The main goal is to get a normal distribution of the transformed data and a constant variance."
   ]
  },
  {
   "cell_type": "code",
   "execution_count": 47,
   "metadata": {},
   "outputs": [
    {
     "name": "stderr",
     "output_type": "stream",
     "text": [
      "FutureWarning: `distplot` is a deprecated function and will be removed in a future version. Please adapt your code to use either `displot` (a figure-level function with similar flexibility) or `histplot` (an axes-level function for histograms). [distributions.py:2551]\n",
      "FutureWarning: `distplot` is a deprecated function and will be removed in a future version. Please adapt your code to use either `displot` (a figure-level function with similar flexibility) or `histplot` (an axes-level function for histograms). [distributions.py:2551]\n"
     ]
    },
    {
     "data": {
      "image/png": "[encoded data removed]",
      "text/plain": [
       "<Figure size 1080x360 with 2 Axes>"
      ]
     },
     "metadata": {
      "needs_background": "light"
     },
     "output_type": "display_data"
    }
   ],
   "source": [
    "# Performing boxcox transformation\n",
    "normalized_data_hosp = stats.boxcox(train[\"Distance_to_sc\"])\n",
    "\n",
    "fig, ax = plt.subplots(1,2)\n",
    "\n",
    "# original data\n",
    "sns.distplot(train[\"Distance_to_sc\"], ax = ax[0], color = \"blue\")\n",
    "ax[0].set_title(\"Original Data\")\n",
    "\n",
    "# Plotting transformed data after boxcox transformation\n",
    "sns.distplot(normalized_data_hosp[0],ax=ax[1],color =\"green\")\n",
    "ax[1].set_title(\"Box Cox Transformation\")\n",
    "\n",
    "# Setting scale\n",
    "fig.set_figheight(5) \n",
    "fig.set_figwidth(15)"
   ]
  },
  {
   "cell_type": "markdown",
   "metadata": {},
   "source": [
    "From the above graph we are able to see that the orginal data is little right skewed. Where as the box cox transformation has more normally distributed. It has also normalized the data to get better relation. "
   ]
  },
  {
   "cell_type": "code",
   "execution_count": 48,
   "metadata": {},
   "outputs": [
    {
     "name": "stderr",
     "output_type": "stream",
     "text": [
      "FutureWarning: `distplot` is a deprecated function and will be removed in a future version. Please adapt your code to use either `displot` (a figure-level function with similar flexibility) or `histplot` (an axes-level function for histograms). [distributions.py:2551]\n",
      "FutureWarning: `distplot` is a deprecated function and will be removed in a future version. Please adapt your code to use either `displot` (a figure-level function with similar flexibility) or `histplot` (an axes-level function for histograms). [distributions.py:2551]\n"
     ]
    },
    {
     "data": {
      "image/png": "[encoded data removed]",
      "text/plain": [
       "<Figure size 1080x360 with 2 Axes>"
      ]
     },
     "metadata": {
      "needs_background": "light"
     },
     "output_type": "display_data"
    }
   ],
   "source": [
    "# Performing boxcox transformation\n",
    "normalized_data_hosp = stats.boxcox(train[\"Distance_to_hospital\"])\n",
    "\n",
    "fig, ax = plt.subplots(1,2)\n",
    "\n",
    "# original data\n",
    "sns.distplot(train[\"Distance_to_hospital\"], ax = ax[0], color = \"blue\")\n",
    "ax[0].set_title(\"Original Data\")\n",
    "\n",
    "# Plotting transformed data after boxcox transformation\n",
    "sns.distplot(normalized_data_hosp[0],ax=ax[1],color =\"green\")\n",
    "ax[1].set_title(\"Box Cox Transformation\")\n",
    "\n",
    "# Setting scale\n",
    "fig.set_figheight(5) \n",
    "fig.set_figwidth(15)"
   ]
  },
  {
   "cell_type": "markdown",
   "metadata": {},
   "source": [
    "The first blue graph shows the distribution of the orginal data on predicted price. We can see that the graph is positive skewed. To better predict the data, we used box cox transformation on the original data. The green graph shows the distribtion of data after using box cox transformation. We can see that the box cox transformation data is normally distributed. It will help to better predict the independent variable and will give better accuracy. "
   ]
  },
  {
   "cell_type": "markdown",
   "metadata": {},
   "source": [
    "## Summary\n",
    "\n",
    "This assessment measured the understanding of the basics of parsing text file using python programming language. As we were not allowed to use multiple libraries like pandas, I was able to understand the importance of the packages.\n",
    "This assessment also helps to understand below topics:\n",
    "\n",
    "- **Reading data**:\n",
    "    As the data are in different format like, txt, json, xml, pdf and many more. I was able to understand how to read the file and use it for further processing.\n",
    "\n",
    "- **Transformation**:\n",
    "    Data Transformation is the process for detecting and correcting any normalization in the reset in the data. It is refer to indentify uneven features and then replace, modify or delete as per the normalized data.\n",
    "    \n",
    "- **Creating file**:\n",
    "    In this assessment we have to create XML file. XML file require proper format to create the file. By doing this i was able to understand how to create and write a file with the formats required for creating different format file."
   ]
  }
 ],
 "metadata": {
  "kernelspec": {
   "display_name": "Python 3",
   "language": "python",
   "name": "python3"
  },
  "language_info": {
   "codemirror_mode": {
    "name": "ipython",
    "version": 3
   },
   "file_extension": ".py",
   "mimetype": "text/x-python",
   "name": "python",
   "nbconvert_exporter": "python",
   "pygments_lexer": "ipython3",
   "version": "3.8.5"
  }
 },
 "nbformat": 4,
 "nbformat_minor": 4
}
